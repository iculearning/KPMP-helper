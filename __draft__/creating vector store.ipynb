{
 "cells": [
  {
   "cell_type": "markdown",
   "source": [
    "# loading and embedding additional knowledge into a vectorstore"
   ],
   "metadata": {
    "collapsed": false
   },
   "id": "615896985bcf0c96"
  },
  {
   "cell_type": "code",
   "execution_count": 9,
   "outputs": [],
   "source": [
    "# import needed libraries\n",
    "from dotenv import dotenv_values\n",
    "from langchain.document_loaders import DirectoryLoader, PyPDFDirectoryLoader, UnstructuredFileLoader, UnstructuredMarkdownLoader\n",
    "from langchain.text_splitter import CharacterTextSplitter, RecursiveCharacterTextSplitter\n",
    "from langchain.embeddings import OpenAIEmbeddings\n",
    "from langchain.vectorstores import Chroma"
   ],
   "metadata": {
    "collapsed": false,
    "ExecuteTime": {
     "end_time": "2023-10-30T13:38:43.887629Z",
     "start_time": "2023-10-30T13:38:43.854600Z"
    }
   },
   "id": "dfdda2216f8a1515"
  },
  {
   "cell_type": "code",
   "execution_count": 10,
   "outputs": [],
   "source": [
    "def getOpenAIKey(path=\"\"):\n",
    "    \"\"\"Gets OpenAI API key from .env file\"\"\"\n",
    "    paths = [\"/Users/samisaf/openai.env\", \"C:/Users/samis/openai.env\", \"C:/Users/samisaf/openai.env\"]\n",
    "    if len(path) > 0:\n",
    "        return dotenv_values(path)['OPENAI_API_KEY']\n",
    "    else:\n",
    "        for p in paths:\n",
    "            if len(dotenv_values(p)) > 0:\n",
    "                return dotenv_values(p)['OPENAI_API_KEY']\n",
    "    return None"
   ],
   "metadata": {
    "collapsed": false,
    "ExecuteTime": {
     "end_time": "2023-10-30T13:38:46.407983Z",
     "start_time": "2023-10-30T13:38:46.404807Z"
    }
   },
   "id": "c38b09af72cec5da"
  },
  {
   "cell_type": "code",
   "execution_count": 15,
   "outputs": [],
   "source": [
    "def loadDirectorySplitDocs(path: str, chunk_size=400, chunk_overlap=50, loader_cls=UnstructuredFileLoader):\n",
    "    \"\"\"Loads files in a directory, then splits them\"\"\"\n",
    "    documents = DirectoryLoader(path=path, loader_cls=loader_cls).load()\n",
    "    text_splitter = CharacterTextSplitter.from_tiktoken_encoder(chunk_size=chunk_size, chunk_overlap=chunk_overlap)\n",
    "    text_splitter2 = RecursiveCharacterTextSplitter(chunk_size=chunk_size, chunk_overlap=chunk_overlap, separators=[\"\\n\\n\", \"\\n\"])\n",
    "    splitDocs = text_splitter2.split_documents(documents)\n",
    "    print(f\"loaded {path}. Got {len(documents)} documents. Splitted into {len(splitDocs)} parts.\")\n",
    "    return splitDocs"
   ],
   "metadata": {
    "collapsed": false,
    "ExecuteTime": {
     "end_time": "2023-10-30T13:39:40.170593Z",
     "start_time": "2023-10-30T13:39:40.160493Z"
    }
   },
   "id": "a2fc87617f22a604"
  },
  {
   "cell_type": "code",
   "execution_count": 16,
   "outputs": [
    {
     "name": "stdout",
     "output_type": "stream",
     "text": [
      "loaded ./data-kpmp-oct-23. Got 2 documents. Splitted into 1128 parts.\n"
     ]
    },
    {
     "data": {
      "text/plain": "1128"
     },
     "execution_count": 16,
     "metadata": {},
     "output_type": "execute_result"
    }
   ],
   "source": [
    "# load the PDF documents and then split them\n",
    "path = './data-kpmp-oct-23'\n",
    "docs = loadDirectorySplitDocs(path=path, loader_cls=UnstructuredMarkdownLoader)\n",
    "len(docs)"
   ],
   "metadata": {
    "collapsed": false,
    "ExecuteTime": {
     "end_time": "2023-10-30T13:39:41.986824Z",
     "start_time": "2023-10-30T13:39:41.404891Z"
    }
   },
   "id": "f5c416bb9c98e3ce"
  },
  {
   "cell_type": "code",
   "execution_count": 17,
   "outputs": [
    {
     "name": "stdout",
     "output_type": "stream",
     "text": [
      "created database at ./db-kpmp-oct-23\n"
     ]
    }
   ],
   "source": [
    "# create vector dataset \n",
    "# then embed the data into a vector store\n",
    "# last store it locally through chromadb\n",
    "dbpath = \"./db-kpmp-oct-23\"\n",
    "embedding = OpenAIEmbeddings(openai_api_key=getOpenAIKey())\n",
    "db = Chroma.from_documents(docs, embedding, persist_directory=dbpath)\n",
    "db.persist()\n",
    "print(f\"created database at {dbpath}\")"
   ],
   "metadata": {
    "collapsed": false,
    "ExecuteTime": {
     "end_time": "2023-10-30T13:39:47.323411Z",
     "start_time": "2023-10-30T13:39:41.974310Z"
    }
   },
   "id": "4a37274bc9d8b079"
  },
  {
   "cell_type": "markdown",
   "source": [
    "# loading vector store, and performing similarity search"
   ],
   "metadata": {
    "collapsed": false
   },
   "id": "9b999988fa350259"
  },
  {
   "cell_type": "code",
   "execution_count": 18,
   "outputs": [
    {
     "name": "stdout",
     "output_type": "stream",
     "text": [
      "[Document(page_content='a. Note that an Adverse Event should be reported for a hemoglobin drop of more than 1 gram/dL.', metadata={'source': 'data-kpmp-oct-23/Recruitment-Site-MOP.md'}), Document(page_content='a. Note that an Adverse Event should be reported for a hemoglobin drop of more than 1 gram/dL.', metadata={'source': 'data-kpmp-oct-23/Recruitment-Site-MOP.md'}), Document(page_content='\\nHemoglobin concentration is serially measured for all participants at 4 hours and 8 hours post biopsy and then daily. A fall in hemoglobin of >2 grams/dL - OR - >1 gram/dL to less than 9 grams/dL requires a repeat measurement if attributable to bleeding from the biopsy site', metadata={'source': 'data-kpmp-oct-23/Recruitment-Site-MOP.md'}), Document(page_content='If admitted, participants must have a stable hemoglobin status and hemodynamics (less than 1g/dL drop) prior to discharge.', metadata={'source': 'data-kpmp-oct-23/Recruitment-Site-MOP.md'})]\n"
     ]
    },
    {
     "data": {
      "text/plain": "4"
     },
     "execution_count": 18,
     "metadata": {},
     "output_type": "execute_result"
    }
   ],
   "source": [
    "embedding = OpenAIEmbeddings(openai_api_key=getOpenAIKey())\n",
    "readdb = Chroma(persist_directory='./db-kpmp-oct-23', embedding_function=embedding)\n",
    "res = readdb.similarity_search(\"hemoglobin drop\")\n",
    "print(res)\n",
    "len(res)"
   ],
   "metadata": {
    "collapsed": false,
    "ExecuteTime": {
     "end_time": "2023-10-30T13:39:48.471053Z",
     "start_time": "2023-10-30T13:39:47.908881Z"
    }
   },
   "id": "9cba0a521a50efab"
  },
  {
   "cell_type": "code",
   "execution_count": null,
   "outputs": [],
   "source": [],
   "metadata": {
    "collapsed": false
   },
   "id": "b665dfb52c26dc34"
  }
 ],
 "metadata": {
  "kernelspec": {
   "display_name": "Python 3",
   "language": "python",
   "name": "python3"
  },
  "language_info": {
   "codemirror_mode": {
    "name": "ipython",
    "version": 2
   },
   "file_extension": ".py",
   "mimetype": "text/x-python",
   "name": "python",
   "nbconvert_exporter": "python",
   "pygments_lexer": "ipython2",
   "version": "2.7.6"
  }
 },
 "nbformat": 4,
 "nbformat_minor": 5
}
