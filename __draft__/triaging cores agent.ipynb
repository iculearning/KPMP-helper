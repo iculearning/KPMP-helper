{
 "cells": [
  {
   "cell_type": "code",
   "execution_count": 5,
   "outputs": [],
   "source": [
    "from langchain.agents import initialize_agent, AgentType\n",
    "from langchain.chains import LLMMathChain\n",
    "from langchain.chat_models import ChatOpenAI\n",
    "from langchain.llms import OpenAI"
   ],
   "metadata": {
    "collapsed": false,
    "ExecuteTime": {
     "end_time": "2023-11-04T17:06:56.483830Z",
     "start_time": "2023-11-04T17:06:48.747998Z"
    }
   },
   "id": "abc908736f3b044c"
  },
  {
   "cell_type": "code",
   "execution_count": 4,
   "outputs": [],
   "source": [
    "# load environment variables \n",
    "import os\n",
    "from dotenv import dotenv_values, load_dotenv\n",
    "load_dotenv()\n",
    "openai_api_key = os.environ['OPENAI_API_KEY']"
   ],
   "metadata": {
    "collapsed": false,
    "ExecuteTime": {
     "end_time": "2023-11-04T17:06:22.480624Z",
     "start_time": "2023-11-04T17:06:22.475495Z"
    }
   },
   "id": "722414201204c947"
  },
  {
   "cell_type": "code",
   "execution_count": 6,
   "outputs": [],
   "source": [
    "model = \"gpt-3.5-turbo\"\n",
    "temperature = 0\n",
    "llm = ChatOpenAI(model=model, temperature=temperature, openai_api_key=openai_api_key"
   ],
   "metadata": {
    "collapsed": false,
    "ExecuteTime": {
     "end_time": "2023-11-04T17:07:50.835722Z",
     "start_time": "2023-11-04T17:07:50.830070Z"
    }
   },
   "id": "6fbbbb6e442ff819"
  },
  {
   "cell_type": "code",
   "execution_count": 17,
   "outputs": [],
   "source": [
    "def triage_biopsy(npasses: int, ncores: int = 0, core1_l: float = None, core1_cortex: bool= None, core2_l: float= None, core2_cortex: bool = None,core3_l: float = None, core3_cortex: bool = None, core4_l: float = None, core4_cortex: bool = None, core5_l: float = None, core5_cortex: bool = None):\n",
    "    max_passes = True if npasses >=5 else False\n",
    "    diagnostic_core = None\n",
    "    if core1_l >= 1.4 and core1_cortex: diagnostic_core = \"Core 1\"\n",
    "    elif  core2_l and core2_l >= 1.4 and core2_cortex: diagnostic_core = \"Core 2\"\n",
    "    elif  core3_l and core3_l >= 1.4 and core3_cortex: diagnostic_core = \"Core 3\"\n",
    "    elif  core4_l and core4_l >= 1.4 and core4_cortex: diagnostic_core = \"Core 4\"\n",
    "    elif  core5_l and core5_l >= 1.4 and core5_cortex: diagnostic_core = \"Core 5\"\n",
    "    else:\n",
    "        if max_passes: \n",
    "            diagnostic_core = \"Not ideal but use the longest core to send for diagnostic\"\n",
    "        else:\n",
    "            diagnostic_core = \"Recommend another pass to obtain diagnostic core\"\n",
    "    return diagnostic_core\n"
   ],
   "metadata": {
    "collapsed": false,
    "ExecuteTime": {
     "end_time": "2023-11-04T18:16:04.602767Z",
     "start_time": "2023-11-04T18:16:04.595526Z"
    }
   },
   "id": "3d5ddd21c4cdaf9f"
  },
  {
   "cell_type": "code",
   "execution_count": 18,
   "outputs": [
    {
     "data": {
      "text/plain": "'Core 1'"
     },
     "execution_count": 18,
     "metadata": {},
     "output_type": "execute_result"
    }
   ],
   "source": [
    "triage_biopsy(npasses=4, ncores=3, core1_l=1.4, core1_cortex=True)"
   ],
   "metadata": {
    "collapsed": false,
    "ExecuteTime": {
     "end_time": "2023-11-04T18:16:05.062716Z",
     "start_time": "2023-11-04T18:16:05.057889Z"
    }
   },
   "id": "749dbc7884a84d2b"
  },
  {
   "cell_type": "code",
   "execution_count": 19,
   "outputs": [
    {
     "data": {
      "text/plain": "'Recommend another pass to obtain diagnostic core'"
     },
     "execution_count": 19,
     "metadata": {},
     "output_type": "execute_result"
    }
   ],
   "source": [
    "triage_biopsy(npasses=4, ncores=3, core1_l=1.3, core1_cortex=True)\n"
   ],
   "metadata": {
    "collapsed": false,
    "ExecuteTime": {
     "end_time": "2023-11-04T18:16:05.427723Z",
     "start_time": "2023-11-04T18:16:05.423408Z"
    }
   },
   "id": "2133f222c21c60bb"
  },
  {
   "cell_type": "code",
   "execution_count": 7,
   "outputs": [],
   "source": [
    "def calcGFR(creatinine: float, age: float, gender: str):\n",
    "    gender = gender.lower()\n",
    "    A = 0.7 if (gender == \"female\") else 0.9\n",
    "    B = None\n",
    "    if (gender == \"female\" and creatinine <= 0.7): B = -0.241\n",
    "    elif (gender == \"female\" and creatinine > 0.7): B = -1.2\n",
    "    elif (gender == \"male\" and creatinine <= 0.9): B = -0.302\n",
    "    elif (gender == \"male\" and creatinine > 0.9): B = -1.2\n",
    "    else: raise ValueError\n",
    "    term1 = 142 * (creatinine / A) ** B\n",
    "    term2 = 0.9938 ** age\n",
    "    term3 = 1.0 if gender == \"Male\" else 1.012\n",
    "    return term1 * term2 * term3\n"
   ],
   "metadata": {
    "collapsed": false,
    "ExecuteTime": {
     "end_time": "2023-11-04T17:08:30.543512Z",
     "start_time": "2023-11-04T17:08:30.529416Z"
    }
   },
   "id": "e5aa2d66b4168018"
  },
  {
   "cell_type": "code",
   "execution_count": 8,
   "outputs": [],
   "source": [
    "from pydantic import BaseModel, Field\n",
    "from langchain.tools import StructuredTool\n",
    "\n",
    "class CalculatorInput(BaseModel):\n",
    "    creatinine: float = Field()\n",
    "    age: float = Field()\n",
    "    gender: str = Field()\n",
    "\n",
    "tools = [\n",
    "    StructuredTool(\n",
    "        name = \"calcGFR\",\n",
    "        func=calcGFR,\n",
    "        description=\"Use this tool to calculate estimated gromeluar filtration rate (GFR) based on patient' serum creatinine, gender (male or female), and age (years)\",\n",
    "        args_schema=CalculatorInput\n",
    "    )\n",
    "]"
   ],
   "metadata": {
    "collapsed": false,
    "ExecuteTime": {
     "end_time": "2023-11-04T17:09:12.008951Z",
     "start_time": "2023-11-04T17:09:11.991137Z"
    }
   },
   "id": "20f5d75af2106661"
  },
  {
   "cell_type": "code",
   "execution_count": 9,
   "outputs": [],
   "source": [
    "# AgentType = STRUCTURED_CHAT_ZERO_SHOT_REACT_DESCRIPTION | OPENAI_FUNCTIONS | OPENAI_MULTI_FUNCTIONS\n",
    "agent = initialize_agent(tools, llm, agent=AgentType.OPENAI_FUNCTIONS, verbose=True)"
   ],
   "metadata": {
    "collapsed": false,
    "ExecuteTime": {
     "end_time": "2023-11-04T17:09:36.458105Z",
     "start_time": "2023-11-04T17:09:36.437290Z"
    }
   },
   "id": "69917c251c0fcb12"
  },
  {
   "cell_type": "code",
   "execution_count": 10,
   "outputs": [
    {
     "name": "stdout",
     "output_type": "stream",
     "text": [
      "\n",
      "\n",
      "\u001B[1m> Entering new AgentExecutor chain...\u001B[0m\n",
      "\u001B[32;1m\u001B[1;3m\n",
      "Invoking: `calcGFR` with `{'creatinine': 1.0, 'age': 40, 'gender': 'male'}`\n",
      "\n",
      "\n",
      "\u001B[0m\u001B[36;1m\u001B[1;3m98.7460118977834\u001B[0m\u001B[32;1m\u001B[1;3mThe estimated glomerular filtration rate (GFR) for a 40-year-old male with a serum creatinine of 1.0 mg/dL is approximately 98.75 mL/min/1.73m².\u001B[0m\n",
      "\n",
      "\u001B[1m> Finished chain.\u001B[0m\n"
     ]
    },
    {
     "data": {
      "text/plain": "'The estimated glomerular filtration rate (GFR) for a 40-year-old male with a serum creatinine of 1.0 mg/dL is approximately 98.75 mL/min/1.73m².'"
     },
     "execution_count": 10,
     "metadata": {},
     "output_type": "execute_result"
    }
   ],
   "source": [
    "agent.run(\"A 40 year old male has a serum creatinine of 1.0 mg/dL. What's his estimated glomerular filtration rate?\")"
   ],
   "metadata": {
    "collapsed": false,
    "ExecuteTime": {
     "end_time": "2023-11-04T17:09:55.856316Z",
     "start_time": "2023-11-04T17:09:41.144104Z"
    }
   },
   "id": "f2ab939f4bb7cde8"
  },
  {
   "cell_type": "code",
   "execution_count": null,
   "outputs": [],
   "source": [],
   "metadata": {
    "collapsed": false
   },
   "id": "e53d401ede3dd862"
  }
 ],
 "metadata": {
  "kernelspec": {
   "display_name": "Python 3",
   "language": "python",
   "name": "python3"
  },
  "language_info": {
   "codemirror_mode": {
    "name": "ipython",
    "version": 2
   },
   "file_extension": ".py",
   "mimetype": "text/x-python",
   "name": "python",
   "nbconvert_exporter": "python",
   "pygments_lexer": "ipython2",
   "version": "2.7.6"
  }
 },
 "nbformat": 4,
 "nbformat_minor": 5
}
