{
 "cells": [
  {
   "cell_type": "code",
   "execution_count": 52,
   "id": "abc908736f3b044c",
   "metadata": {
    "ExecuteTime": {
     "end_time": "2023-11-06T16:55:21.618494Z",
     "start_time": "2023-11-06T16:55:21.604819Z"
    }
   },
   "outputs": [],
   "source": [
    "from langchain.agents import initialize_agent, AgentType\n",
    "from langchain.chains import LLMMathChain\n",
    "from langchain.chat_models import ChatOpenAI\n",
    "from langchain.llms import OpenAI"
   ]
  },
  {
   "cell_type": "code",
   "execution_count": 53,
   "id": "722414201204c947",
   "metadata": {
    "ExecuteTime": {
     "end_time": "2023-11-06T16:55:22.258778Z",
     "start_time": "2023-11-06T16:55:22.221981Z"
    }
   },
   "outputs": [],
   "source": [
    "# load environment variables \n",
    "import os\n",
    "from dotenv import dotenv_values, load_dotenv\n",
    "load_dotenv()\n",
    "openai_api_key = os.environ['OPENAI_API_KEY']"
   ]
  },
  {
   "cell_type": "code",
   "execution_count": 54,
   "id": "6fbbbb6e442ff819",
   "metadata": {
    "ExecuteTime": {
     "end_time": "2023-11-06T16:55:22.642300Z",
     "start_time": "2023-11-06T16:55:22.638341Z"
    }
   },
   "outputs": [],
   "source": [
    "model = \"gpt-3.5-turbo\"\n",
    "temperature = 0\n",
    "llm = ChatOpenAI(model=model, temperature=temperature, openai_api_key=openai_api_key)"
   ]
  },
  {
   "cell_type": "code",
   "execution_count": 55,
   "id": "4b377e801d192f84",
   "metadata": {
    "ExecuteTime": {
     "end_time": "2023-11-06T16:55:23.322922Z",
     "start_time": "2023-11-06T16:55:23.301695Z"
    }
   },
   "outputs": [
    {
     "data": {
      "text/plain": "(Core(n='first', length=1.5, cortex=True),\n 'Assign the first core that is 1.5 cm long as the diagnostic core. If the amount of cortext is less than 0.5 cm then please the entire core in formalin for light microscopy. Otherwise, divide diagnostic core in three parts with a minimum of 0.1-0.2 cm of cortex fixed in 2.5% glutaraldehyde for EM, 0.3 cm cortex frozen in OCT for IF, and the remaining amount of tissue fixed in 10% formalin for LM. \\nThe second biopsy core should be embedded in OCT, frozen on dry ice and shipped to the central bio-repository where it will be distributed to the TISs.')"
     },
     "execution_count": 55,
     "metadata": {},
     "output_type": "execute_result"
    }
   ],
   "source": [
    "from backend.triage import triage_biopsy\n",
    "triage_biopsy(1.5, True, 1.2, False, 0.5, True)"
   ]
  },
  {
   "cell_type": "code",
   "execution_count": 56,
   "id": "20f5d75af2106661",
   "metadata": {
    "ExecuteTime": {
     "end_time": "2023-11-06T16:55:24.403098Z",
     "start_time": "2023-11-06T16:55:24.399845Z"
    }
   },
   "outputs": [],
   "source": [
    "from pydantic import BaseModel, Field\n",
    "from langchain.tools import StructuredTool\n",
    "\n",
    "class TriageInput(BaseModel):\n",
    "    core1_length: float = Field()\n",
    "    core1_cortex: bool = Field()\n",
    "    core2_length: float = Field()\n",
    "    core2_cortex: bool = Field()\n",
    "    core3_length: float = Field()\n",
    "    core3_cortex: bool = Field()"
   ]
  },
  {
   "cell_type": "code",
   "execution_count": 57,
   "id": "85a2236e938343cf",
   "metadata": {
    "ExecuteTime": {
     "end_time": "2023-11-06T16:55:25.155379Z",
     "start_time": "2023-11-06T16:55:25.114019Z"
    }
   },
   "outputs": [],
   "source": [
    "tools = [\n",
    "    StructuredTool(\n",
    "        name = \"triage_biopsy\",\n",
    "        func = triage_biopsy,\n",
    "        description = \"Use this tool to triage a kidney biopsy. It produces instructions to process the biopsy bases on the length of the cores and whether renal or kidney cortext is visualized in them. If cortex is not mentioned in the text, then assume that it was not visualized\",\n",
    "        args_schema = TriageInput\n",
    "    )\n",
    "]"
   ]
  },
  {
   "cell_type": "code",
   "execution_count": 58,
   "id": "69917c251c0fcb12",
   "metadata": {
    "ExecuteTime": {
     "end_time": "2023-11-06T16:55:25.727997Z",
     "start_time": "2023-11-06T16:55:25.715194Z"
    }
   },
   "outputs": [],
   "source": [
    "# AgentType = STRUCTURED_CHAT_ZERO_SHOT_REACT_DESCRIPTION | OPENAI_FUNCTIONS | OPENAI_MULTI_FUNCTIONS\n",
    "agent = initialize_agent(tools, llm, agent=AgentType.OPENAI_FUNCTIONS, verbose=True)"
   ]
  },
  {
   "cell_type": "code",
   "execution_count": 51,
   "id": "f2ab939f4bb7cde8",
   "metadata": {
    "ExecuteTime": {
     "end_time": "2023-11-06T13:45:50.602249Z",
     "start_time": "2023-11-06T13:45:24.954738Z"
    }
   },
   "outputs": [
    {
     "name": "stdout",
     "output_type": "stream",
     "text": [
      "\n",
      "\n",
      "\u001B[1m> Entering new AgentExecutor chain...\u001B[0m\n",
      "\u001B[32;1m\u001B[1;3m\n",
      "Invoking: `triage_biopsy` with `{'core1_length': 1.5, 'core1_cortex': True, 'core2_length': 1, 'core2_cortex': False, 'core3_length': 0.5, 'core3_cortex': False}`\n",
      "\n",
      "\n",
      "\u001B[0m\u001B[36;1m\u001B[1;3m(Core(n='first', length=1.5, cortex=True), 'Assign the first core that is 1.5 cm long as the diagnostic core. If the amount of cortext is less than 0.5 cm then please the entire core in formalin for light microscopy. Otherwise, divide diagnostic core in three parts with a minimum of 0.1-0.2 cm of cortex fixed in 2.5% glutaraldehyde for EM, 0.3 cm cortex frozen in OCT for IF, and the remaining amount of tissue fixed in 10% formalin for LM. \\n')\u001B[0m\u001B[32;1m\u001B[1;3mBased on the information provided, here is how you should triage the tissue:\n",
      "\n",
      "1. Assign the first core, which is 1.5 cm in length and shows cortex, as the diagnostic core.\n",
      "2. If the amount of cortex in the diagnostic core is less than 0.5 cm, please place the entire core in formalin for light microscopy.\n",
      "3. If the amount of cortex in the diagnostic core is 0.5 cm or more, divide the diagnostic core into three parts:\n",
      "   - Take a minimum of 0.1-0.2 cm of cortex and fix it in 2.5% glutaraldehyde for electron microscopy.\n",
      "   - Take 0.3 cm of cortex and freeze it in OCT for immunofluorescence.\n",
      "   - Fix the remaining amount of tissue in 10% formalin for light microscopy.\n",
      "\n",
      "Please follow these instructions to process the biopsy.\u001B[0m\n",
      "\n",
      "\u001B[1m> Finished chain.\u001B[0m\n"
     ]
    },
    {
     "data": {
      "text/plain": "'Based on the information provided, here is how you should triage the tissue:\\n\\n1. Assign the first core, which is 1.5 cm in length and shows cortex, as the diagnostic core.\\n2. If the amount of cortex in the diagnostic core is less than 0.5 cm, please place the entire core in formalin for light microscopy.\\n3. If the amount of cortex in the diagnostic core is 0.5 cm or more, divide the diagnostic core into three parts:\\n   - Take a minimum of 0.1-0.2 cm of cortex and fix it in 2.5% glutaraldehyde for electron microscopy.\\n   - Take 0.3 cm of cortex and freeze it in OCT for immunofluorescence.\\n   - Fix the remaining amount of tissue in 10% formalin for light microscopy.\\n\\nPlease follow these instructions to process the biopsy.'"
     },
     "execution_count": 51,
     "metadata": {},
     "output_type": "execute_result"
    }
   ],
   "source": [
    "agent.run(\"You obtain three cores, first core is 1.5 cm in length, second is 1 cm, and thrid is 0.5 cm. You see cortex in first core. How would you triage the tissue?\")"
   ]
  },
  {
   "cell_type": "code",
   "execution_count": 7,
   "id": "e53d401ede3dd862",
   "metadata": {
    "ExecuteTime": {
     "end_time": "2023-11-05T20:07:27.550011Z",
     "start_time": "2023-11-05T20:07:10.031550Z"
    }
   },
   "outputs": [
    {
     "ename": "NameError",
     "evalue": "name 'agent' is not defined",
     "output_type": "error",
     "traceback": [
      "\u001B[0;31m---------------------------------------------------------------------------\u001B[0m",
      "\u001B[0;31mNameError\u001B[0m                                 Traceback (most recent call last)",
      "Cell \u001B[0;32mIn[7], line 1\u001B[0m\n\u001B[0;32m----> 1\u001B[0m \u001B[43magent\u001B[49m\u001B[38;5;241m.\u001B[39mrun(\u001B[38;5;124m\"\u001B[39m\u001B[38;5;124mYou obtain three cores, first core is 1.5 cm in length, second is 1 cm, and third is 0.5 cm. Cortex was not visualized. How would you triage the tissue?\u001B[39m\u001B[38;5;124m\"\u001B[39m)\n",
      "\u001B[0;31mNameError\u001B[0m: name 'agent' is not defined"
     ]
    }
   ],
   "source": [
    "agent.run(\"You obtain three cores, first core is 1.5 cm in length, second is 1 cm, and third is 0.5 cm. Cortex was not visualized. How would you triage the tissue?\")"
   ]
  },
  {
   "cell_type": "code",
   "execution_count": 43,
   "id": "6fee86698966cf7a",
   "metadata": {
    "ExecuteTime": {
     "end_time": "2023-11-05T23:14:28.303451Z",
     "start_time": "2023-11-05T21:29:09.190850Z"
    }
   },
   "outputs": [
    {
     "name": "stdout",
     "output_type": "stream",
     "text": [
      "\n",
      "\n",
      "\u001B[1m> Entering new AgentExecutor chain...\u001B[0m\n",
      "\u001B[32;1m\u001B[1;3m\n",
      "Invoking: `triage_biopsy` with `{'core1_length': 1.2, 'core1_cortex': False, 'core2_length': 1, 'core2_cortex': False, 'core3_length': 0.5, 'core3_cortex': False, 'n_passes': 3}`\n",
      "\n",
      "\n",
      "\u001B[0m\u001B[36;1m\u001B[1;3mAll biopsy cores are less than 1.4 cm. A minimum of 0.5 cm of cortex needs to be placed into formalin for LM. A minimum of 0.2 cm cortex needs to be frozen in OCT to be processed for IF. A minimum of 0.1 cm cortex needs to be placed glutaraldehyde for EM. In the event of scarce tissue availability, prioritize LM > IF > EM. \n",
      "The remaining two cores will be designated for tissue interrogation and triaged/processed as cores #2 and #3.\u001B[0m"
     ]
    },
    {
     "name": "stderr",
     "output_type": "stream",
     "text": [
      "Retrying langchain.chat_models.openai.ChatOpenAI.completion_with_retry.<locals>._completion_with_retry in 4.0 seconds as it raised Timeout: Request timed out: HTTPSConnectionPool(host='api.openai.com', port=443): Read timed out. (read timeout=600).\n"
     ]
    },
    {
     "name": "stdout",
     "output_type": "stream",
     "text": [
      "\u001B[32;1m\u001B[1;3mBased on the information provided, here is how you should triage the tissue:\n",
      "\n",
      "1. Core 1: Since the length is 1.2 cm and cortex was not visualized, this core should be designated for tissue interrogation and triaged/processed as Core #1.\n",
      "\n",
      "2. Core 2: Since the length is 1 cm and cortex was not visualized, this core should be designated for tissue interrogation and triaged/processed as Core #2.\n",
      "\n",
      "3. Core 3: Since the length is 0.5 cm and cortex was not visualized, this core should be designated for tissue interrogation and triaged/processed as Core #3.\n",
      "\n",
      "Please note that in the event of scarce tissue availability, prioritize LM (light microscopy) over IF (immunofluorescence) and EM (electron microscopy).\u001B[0m\n",
      "\n",
      "\u001B[1m> Finished chain.\u001B[0m\n"
     ]
    },
    {
     "data": {
      "text/plain": [
       "'Based on the information provided, here is how you should triage the tissue:\\n\\n1. Core 1: Since the length is 1.2 cm and cortex was not visualized, this core should be designated for tissue interrogation and triaged/processed as Core #1.\\n\\n2. Core 2: Since the length is 1 cm and cortex was not visualized, this core should be designated for tissue interrogation and triaged/processed as Core #2.\\n\\n3. Core 3: Since the length is 0.5 cm and cortex was not visualized, this core should be designated for tissue interrogation and triaged/processed as Core #3.\\n\\nPlease note that in the event of scarce tissue availability, prioritize LM (light microscopy) over IF (immunofluorescence) and EM (electron microscopy).'"
      ]
     },
     "execution_count": 43,
     "metadata": {},
     "output_type": "execute_result"
    }
   ],
   "source": [
    "agent.run(\"You obtain three cores, first core is 1.2 cm in length, second is 1 cm, and third is 0.5 cm. Cortex was not visualized. How would you triage the tissue?\")"
   ]
  },
  {
   "cell_type": "code",
   "execution_count": 9,
   "id": "f2a3ea928bc54403",
   "metadata": {},
   "outputs": [
    {
     "name": "stdout",
     "output_type": "stream",
     "text": [
      "\n",
      "\n",
      "\u001B[1m> Entering new AgentExecutor chain...\u001B[0m\n",
      "\u001B[32;1m\u001B[1;3m\n",
      "Invoking: `triage_biopsy` with `{'core1_length': 1.5, 'core1_cortex': False, 'core2_length': 0, 'core2_cortex': False, 'core3_length': 0, 'core3_cortex': False, 'n_passes': 1}`\n",
      "\n",
      "\n",
      "\u001B[0m\u001B[36;1m\u001B[1;3m(Core(n='first', length=1.5, cortex=False), 'The entire tissue will be fixed in formalin to be processed for Light Microscopy.')\u001B[0m\u001B[32;1m\u001B[1;3mBased on the information provided, the triage for the tissue would be as follows:\n",
      "\n",
      "- The entire tissue will be fixed in formalin to be processed for Light Microscopy.\u001B[0m\n",
      "\n",
      "\u001B[1m> Finished chain.\u001B[0m\n"
     ]
    },
    {
     "data": {
      "text/plain": [
       "'Based on the information provided, the triage for the tissue would be as follows:\\n\\n- The entire tissue will be fixed in formalin to be processed for Light Microscopy.'"
      ]
     },
     "execution_count": 9,
     "metadata": {},
     "output_type": "execute_result"
    }
   ],
   "source": [
    "agent.run(\"You do one pass, and obtain one core that's 1.5 cm long. How would you triage the tissue?\")"
   ]
  },
  {
   "cell_type": "code",
   "execution_count": 59,
   "id": "4f2a6184",
   "metadata": {
    "ExecuteTime": {
     "end_time": "2023-11-06T17:38:21.402301Z",
     "start_time": "2023-11-06T17:38:09.299719Z"
    }
   },
   "outputs": [
    {
     "name": "stdout",
     "output_type": "stream",
     "text": [
      "\n",
      "\n",
      "\u001B[1m> Entering new AgentExecutor chain...\u001B[0m\n",
      "\u001B[32;1m\u001B[1;3m\n",
      "Invoking: `triage_biopsy` with `{'core1_length': 1.2, 'core1_cortex': False, 'core2_length': 0, 'core2_cortex': False, 'core3_length': 0, 'core3_cortex': False}`\n",
      "\n",
      "\n",
      "\u001B[0m\u001B[36;1m\u001B[1;3m(Core(n='first', length=1.2, cortex=False), 'The entire tissue will be fixed in formalin to be processed for Light Microscopy.')\u001B[0m\u001B[32;1m\u001B[1;3mBased on the information provided, since you only have one core which is 1.2 cm in length and the cortex was not visualized, the entire tissue should be fixed in formalin to be processed for Light Microscopy.\u001B[0m\n",
      "\n",
      "\u001B[1m> Finished chain.\u001B[0m\n"
     ]
    },
    {
     "data": {
      "text/plain": "'Based on the information provided, since you only have one core which is 1.2 cm in length and the cortex was not visualized, the entire tissue should be fixed in formalin to be processed for Light Microscopy.'"
     },
     "execution_count": 59,
     "metadata": {},
     "output_type": "execute_result"
    }
   ],
   "source": [
    "agent.run(\"I finished the biopsy. I only have one core which is 1.2 cm in length. How should I triage the tissue?\")"
   ]
  },
  {
   "cell_type": "code",
   "execution_count": 60,
   "outputs": [
    {
     "name": "stdout",
     "output_type": "stream",
     "text": [
      "\n",
      "\n",
      "\u001B[1m> Entering new AgentExecutor chain...\u001B[0m\n",
      "\u001B[32;1m\u001B[1;3m\n",
      "Invoking: `triage_biopsy` with `{'core1_length': 1.5, 'core1_cortex': True, 'core2_length': 1.2, 'core2_cortex': True, 'core3_length': 0.8, 'core3_cortex': True}`\n",
      "\n",
      "\n",
      "\u001B[0m\u001B[36;1m\u001B[1;3m(Core(n='first', length=1.5, cortex=True), 'Assign the first core that is 1.5 cm long as the diagnostic core. If the amount of cortext is less than 0.5 cm then please the entire core in formalin for light microscopy. Otherwise, divide diagnostic core in three parts with a minimum of 0.1-0.2 cm of cortex fixed in 2.5% glutaraldehyde for EM, 0.3 cm cortex frozen in OCT for IF, and the remaining amount of tissue fixed in 10% formalin for LM. \\nThe remaining two cores will be designated for tissue interrogation and triaged/processed as cores #2 and #3.')\u001B[0m\u001B[32;1m\u001B[1;3mBased on the length of the cores and the visualization of cortex in all of them, here is how you should triage the tissue:\n",
      "\n",
      "1. Assign the first core that is 1.5 cm long as the diagnostic core.\n",
      "   - If the amount of cortex is less than 0.5 cm, please place the entire core in formalin for light microscopy.\n",
      "   - If the amount of cortex is 0.5 cm or more, divide the diagnostic core into three parts:\n",
      "     - Fix a minimum of 0.1-0.2 cm of cortex in 2.5% glutaraldehyde for electron microscopy.\n",
      "     - Freeze 0.3 cm of cortex in OCT for immunofluorescence.\n",
      "     - Fix the remaining amount of tissue in 10% formalin for light microscopy.\n",
      "\n",
      "2. The remaining two cores will be designated for tissue interrogation and triaged/processed as cores #2 and #3.\n",
      "\n",
      "Please follow these instructions to process the biopsy tissue accordingly.\u001B[0m\n",
      "\n",
      "\u001B[1m> Finished chain.\u001B[0m\n"
     ]
    },
    {
     "data": {
      "text/plain": "'Based on the length of the cores and the visualization of cortex in all of them, here is how you should triage the tissue:\\n\\n1. Assign the first core that is 1.5 cm long as the diagnostic core.\\n   - If the amount of cortex is less than 0.5 cm, please place the entire core in formalin for light microscopy.\\n   - If the amount of cortex is 0.5 cm or more, divide the diagnostic core into three parts:\\n     - Fix a minimum of 0.1-0.2 cm of cortex in 2.5% glutaraldehyde for electron microscopy.\\n     - Freeze 0.3 cm of cortex in OCT for immunofluorescence.\\n     - Fix the remaining amount of tissue in 10% formalin for light microscopy.\\n\\n2. The remaining two cores will be designated for tissue interrogation and triaged/processed as cores #2 and #3.\\n\\nPlease follow these instructions to process the biopsy tissue accordingly.'"
     },
     "execution_count": 60,
     "metadata": {},
     "output_type": "execute_result"
    }
   ],
   "source": [
    "agent.run(\"I finished the biopsy. I only 3 cores. One is 1.5 cm in length, the second is 1.2 cm, and the third is 0.8 cm in length. Cortex was visualized in all of them. How should I triage the tissue?\")\n"
   ],
   "metadata": {
    "collapsed": false,
    "ExecuteTime": {
     "end_time": "2023-11-06T17:40:11.070507Z",
     "start_time": "2023-11-06T17:39:44.684545Z"
    }
   },
   "id": "e939d27e055c843c"
  },
  {
   "cell_type": "code",
   "execution_count": 61,
   "outputs": [
    {
     "name": "stdout",
     "output_type": "stream",
     "text": [
      "\n",
      "\n",
      "\u001B[1m> Entering new AgentExecutor chain...\u001B[0m\n",
      "\u001B[32;1m\u001B[1;3m\n",
      "Invoking: `triage_biopsy` with `{'core1_length': 1.5, 'core1_cortex': True, 'core2_length': 1.2, 'core2_cortex': True, 'core3_length': 0.8, 'core3_cortex': True}`\n",
      "\n",
      "\n",
      "\u001B[0m\u001B[36;1m\u001B[1;3m(Core(n='first', length=1.5, cortex=True), 'Assign the first core that is 1.5 cm long as the diagnostic core. If the amount of cortext is less than 0.5 cm then please the entire core in formalin for light microscopy. Otherwise, divide diagnostic core in three parts with a minimum of 0.1-0.2 cm of cortex fixed in 2.5% glutaraldehyde for EM, 0.3 cm cortex frozen in OCT for IF, and the remaining amount of tissue fixed in 10% formalin for LM. \\nThe remaining two cores will be designated for tissue interrogation and triaged/processed as cores #2 and #3.')\u001B[0m"
     ]
    },
    {
     "name": "stderr",
     "output_type": "stream",
     "text": [
      "Retrying langchain.chat_models.openai.ChatOpenAI.completion_with_retry.<locals>._completion_with_retry in 4.0 seconds as it raised Timeout: Request timed out: HTTPSConnectionPool(host='api.openai.com', port=443): Read timed out. (read timeout=600).\n"
     ]
    },
    {
     "name": "stdout",
     "output_type": "stream",
     "text": [
      "\u001B[32;1m\u001B[1;3mBased on the information provided, here are the instructions to process the kidney biopsy:\n",
      "\n",
      "1. Assign the first core, which is 1.5 cm long and contains cortex, as the diagnostic core.\n",
      "2. If the amount of cortex in the diagnostic core is less than 0.5 cm, please place the entire core in formalin for light microscopy.\n",
      "3. If the amount of cortex in the diagnostic core is 0.5 cm or more, divide the diagnostic core into three parts:\n",
      "   - Fix a minimum of 0.1-0.2 cm of cortex in 2.5% glutaraldehyde for electron microscopy.\n",
      "   - Freeze 0.3 cm of cortex in OCT for immunofluorescence.\n",
      "   - Fix the remaining amount of tissue in 10% formalin for light microscopy.\n",
      "4. The remaining two cores will be designated for tissue interrogation and should be triaged/processed as cores #2 and #3.\n",
      "\n",
      "Please follow these instructions to process the biopsy accordingly.\u001B[0m\n",
      "\n",
      "\u001B[1m> Finished chain.\u001B[0m\n"
     ]
    },
    {
     "data": {
      "text/plain": "'Based on the information provided, here are the instructions to process the kidney biopsy:\\n\\n1. Assign the first core, which is 1.5 cm long and contains cortex, as the diagnostic core.\\n2. If the amount of cortex in the diagnostic core is less than 0.5 cm, please place the entire core in formalin for light microscopy.\\n3. If the amount of cortex in the diagnostic core is 0.5 cm or more, divide the diagnostic core into three parts:\\n   - Fix a minimum of 0.1-0.2 cm of cortex in 2.5% glutaraldehyde for electron microscopy.\\n   - Freeze 0.3 cm of cortex in OCT for immunofluorescence.\\n   - Fix the remaining amount of tissue in 10% formalin for light microscopy.\\n4. The remaining two cores will be designated for tissue interrogation and should be triaged/processed as cores #2 and #3.\\n\\nPlease follow these instructions to process the biopsy accordingly.'"
     },
     "execution_count": 61,
     "metadata": {},
     "output_type": "execute_result"
    }
   ],
   "source": [
    "agent.run(\"core one is 1.5 cm, core two is 1.2 cm, and core 3 is 0.8 cm. Each core is 50% cortex\")"
   ],
   "metadata": {
    "collapsed": false,
    "ExecuteTime": {
     "end_time": "2023-11-06T18:51:25.216272Z",
     "start_time": "2023-11-06T17:42:52.807395Z"
    }
   },
   "id": "9944b1c5135eb581"
  },
  {
   "cell_type": "code",
   "execution_count": null,
   "outputs": [],
   "source": [],
   "metadata": {
    "collapsed": false
   },
   "id": "bccada450c4d4faa"
  }
 ],
 "metadata": {
  "kernelspec": {
   "display_name": "Python 3 (ipykernel)",
   "language": "python",
   "name": "python3"
  },
  "language_info": {
   "codemirror_mode": {
    "name": "ipython",
    "version": 3
   },
   "file_extension": ".py",
   "mimetype": "text/x-python",
   "name": "python",
   "nbconvert_exporter": "python",
   "pygments_lexer": "ipython3",
   "version": "3.10.9"
  }
 },
 "nbformat": 4,
 "nbformat_minor": 5
}
