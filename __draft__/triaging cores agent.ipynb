{
 "cells": [
  {
   "cell_type": "code",
   "execution_count": 28,
   "outputs": [],
   "source": [
    "from langchain.agents import initialize_agent, AgentType\n",
    "from langchain.chains import LLMMathChain\n",
    "from langchain.chat_models import ChatOpenAI\n",
    "from langchain.llms import OpenAI"
   ],
   "metadata": {
    "collapsed": false,
    "ExecuteTime": {
     "end_time": "2023-11-05T18:36:19.346044Z",
     "start_time": "2023-11-05T18:36:19.314322Z"
    }
   },
   "id": "abc908736f3b044c"
  },
  {
   "cell_type": "code",
   "execution_count": 29,
   "outputs": [],
   "source": [
    "# load environment variables \n",
    "import os\n",
    "from dotenv import dotenv_values, load_dotenv\n",
    "load_dotenv()\n",
    "openai_api_key = os.environ['OPENAI_API_KEY']"
   ],
   "metadata": {
    "collapsed": false,
    "ExecuteTime": {
     "end_time": "2023-11-05T18:36:20.031842Z",
     "start_time": "2023-11-05T18:36:20.027231Z"
    }
   },
   "id": "722414201204c947"
  },
  {
   "cell_type": "code",
   "execution_count": 30,
   "outputs": [],
   "source": [
    "model = \"gpt-3.5-turbo\"\n",
    "temperature = 0\n",
    "llm = ChatOpenAI(model=model, temperature=temperature, openai_api_key=openai_api_key)"
   ],
   "metadata": {
    "collapsed": false,
    "ExecuteTime": {
     "end_time": "2023-11-05T18:36:20.820587Z",
     "start_time": "2023-11-05T18:36:20.816315Z"
    }
   },
   "id": "6fbbbb6e442ff819"
  },
  {
   "cell_type": "code",
   "execution_count": 31,
   "outputs": [
    {
     "data": {
      "text/plain": "(Core(n='first', length=1.5, cortex=True),\n 'Assign the first core as the diagnostic core. If the amount of cortext is less than 0.5 cm then please the entire core in formalin for light microscopy. Otherwise, divide diagnostic core in three parts with a minimum of 0.1-0.2 cm of cortex fixed in 2.5% glutaraldehyde for EM, 0.3 cm cortex frozen in OCT for IF, and the remaining amount of tissue fixed in 10% formalin for LM. \\nThe second biopsy core should be embedded in OCT, frozen on dry ice and shipped to the central biorepository where it will be distributed to the TISs.')"
     },
     "execution_count": 31,
     "metadata": {},
     "output_type": "execute_result"
    }
   ],
   "source": [
    "from triage import triage_biopsy\n",
    "triage_biopsy(1.5, True, 1.2, False, 0.5, True)"
   ],
   "metadata": {
    "collapsed": false,
    "ExecuteTime": {
     "end_time": "2023-11-05T18:36:21.600486Z",
     "start_time": "2023-11-05T18:36:21.596040Z"
    }
   },
   "id": "4b377e801d192f84"
  },
  {
   "cell_type": "code",
   "execution_count": 5,
   "outputs": [],
   "source": [
    "from pydantic import BaseModel, Field\n",
    "from langchain.tools import StructuredTool\n",
    "\n",
    "class TriageInput(BaseModel):\n",
    "    core1_length: float = Field()\n",
    "    core1_cortex: bool = Field()\n",
    "    core2_length: float = Field()\n",
    "    core2_cortex: bool = Field()\n",
    "    core3_length: float = Field()\n",
    "    core3_cortex: bool = Field()\n",
    "    n_passes: int = Field()"
   ],
   "metadata": {
    "collapsed": false,
    "ExecuteTime": {
     "end_time": "2023-11-05T18:34:49.912598Z",
     "start_time": "2023-11-05T18:34:49.895024Z"
    }
   },
   "id": "20f5d75af2106661"
  },
  {
   "cell_type": "code",
   "execution_count": 33,
   "outputs": [],
   "source": [
    "tools = [\n",
    "    StructuredTool(\n",
    "        name = \"triage_biopsy\",\n",
    "        func = triage_biopsy,\n",
    "        description = \"Use this tool to triage a kidney biopsy. It produces instructions to process the biopsy bases on the length of the cores and whether renal or kidney cortext is visualized in them. If cortex is not mentioned in the text, then assume that it was not visualized\",\n",
    "        args_schema = TriageInput\n",
    "    )\n",
    "]"
   ],
   "metadata": {
    "collapsed": false,
    "ExecuteTime": {
     "end_time": "2023-11-05T18:47:11.256884Z",
     "start_time": "2023-11-05T18:47:11.138367Z"
    }
   },
   "id": "85a2236e938343cf"
  },
  {
   "cell_type": "code",
   "execution_count": 26,
   "outputs": [],
   "source": [
    "# AgentType = STRUCTURED_CHAT_ZERO_SHOT_REACT_DESCRIPTION | OPENAI_FUNCTIONS | OPENAI_MULTI_FUNCTIONS\n",
    "agent = initialize_agent(tools, llm, agent=AgentType.OPENAI_FUNCTIONS, verbose=True)"
   ],
   "metadata": {
    "collapsed": false,
    "ExecuteTime": {
     "end_time": "2023-11-05T18:21:25.870143Z",
     "start_time": "2023-11-05T18:21:25.867012Z"
    }
   },
   "id": "69917c251c0fcb12"
  },
  {
   "cell_type": "code",
   "execution_count": 27,
   "outputs": [
    {
     "name": "stdout",
     "output_type": "stream",
     "text": [
      "\n",
      "\n",
      "\u001B[1m> Entering new AgentExecutor chain...\u001B[0m\n",
      "\u001B[32;1m\u001B[1;3m\n",
      "Invoking: `triage_biopsy` with `{'core1_length': 1.5, 'core1_cortex': True, 'core2_length': 1, 'core2_cortex': False, 'core3_length': 0.5, 'core3_cortex': False, 'n_passes': 3}`\n",
      "\n",
      "\n",
      "\u001B[0m\u001B[36;1m\u001B[1;3m(Core(n='first', length=1.5, cortex=True), 'Assign the first core as the diagnostic core. If the amount of cortext is less than 0.5 cm then please the entire core in formalin for light microscopy. Otherwise, divide diagnostic core in three parts with a minimum of 0.1-0.2 cm of cortex fixed in 2.5% glutaraldehyde for EM, 0.3 cm cortex frozen in OCT for IF, and the remaining amount of tissue fixed in 10% formalin for LM. \\n')\u001B[0m\u001B[32;1m\u001B[1;3mBased on the information provided, here is how you should triage the tissue:\n",
      "\n",
      "1. Assign the first core (1.5 cm in length) as the diagnostic core.\n",
      "2. If the amount of cortex in the first core is less than 0.5 cm, please place the entire core in formalin for light microscopy.\n",
      "3. If the amount of cortex in the first core is 0.5 cm or more, divide the diagnostic core into three parts:\n",
      "   - Take a minimum of 0.1-0.2 cm of cortex and fix it in 2.5% glutaraldehyde for electron microscopy.\n",
      "   - Take 0.3 cm of cortex and freeze it in OCT for immunofluorescence.\n",
      "   - Fix the remaining amount of tissue in 10% formalin for light microscopy.\n",
      "\n",
      "Please follow these instructions to process the biopsy.\u001B[0m\n",
      "\n",
      "\u001B[1m> Finished chain.\u001B[0m\n"
     ]
    },
    {
     "data": {
      "text/plain": "'Based on the information provided, here is how you should triage the tissue:\\n\\n1. Assign the first core (1.5 cm in length) as the diagnostic core.\\n2. If the amount of cortex in the first core is less than 0.5 cm, please place the entire core in formalin for light microscopy.\\n3. If the amount of cortex in the first core is 0.5 cm or more, divide the diagnostic core into three parts:\\n   - Take a minimum of 0.1-0.2 cm of cortex and fix it in 2.5% glutaraldehyde for electron microscopy.\\n   - Take 0.3 cm of cortex and freeze it in OCT for immunofluorescence.\\n   - Fix the remaining amount of tissue in 10% formalin for light microscopy.\\n\\nPlease follow these instructions to process the biopsy.'"
     },
     "execution_count": 27,
     "metadata": {},
     "output_type": "execute_result"
    }
   ],
   "source": [
    "agent.run(\"You obtain three cores, first core is 1.5 cm in length, second is 1 cm, and thrid is 0.5 cm. You see cortex in first core. How would you triage the tissue?\")"
   ],
   "metadata": {
    "collapsed": false,
    "ExecuteTime": {
     "end_time": "2023-11-05T18:22:36.887287Z",
     "start_time": "2023-11-05T18:22:09.581800Z"
    }
   },
   "id": "f2ab939f4bb7cde8"
  },
  {
   "cell_type": "code",
   "execution_count": 35,
   "outputs": [
    {
     "name": "stdout",
     "output_type": "stream",
     "text": [
      "\n",
      "\n",
      "\u001B[1m> Entering new AgentExecutor chain...\u001B[0m\n",
      "\u001B[32;1m\u001B[1;3m\n",
      "Invoking: `triage_biopsy` with `{'core1_length': 1.5, 'core1_cortex': False, 'core2_length': 1, 'core2_cortex': False, 'core3_length': 0.5, 'core3_cortex': False, 'n_passes': 3}`\n",
      "\n",
      "\n",
      "\u001B[0m\u001B[36;1m\u001B[1;3m(Core(n='first', length=1.5, cortex=False), 'Assign the first core as the diagnostic core. A minimum of 0.1-0.2 cm of tissue from both tips of the diagnostic core should be placed in  glutaraldehyde for EM, a 0.3 cm of tissue from both tips will be frozen in OCT for IF, and the remaining tissue will be placed in formalin for LM. \\nThe remaining two cores will be designated for tissue interrogation and triaged/processed as cores #2 and #3.')\u001B[0m\u001B[32;1m\u001B[1;3mBased on the information provided, I would triage the tissue as follows:\n",
      "\n",
      "1. Assign the first core (1.5 cm in length) as the diagnostic core.\n",
      "   - A minimum of 0.1-0.2 cm of tissue from both tips of the diagnostic core should be placed in glutaraldehyde for electron microscopy (EM).\n",
      "   - A 0.3 cm of tissue from both tips will be frozen in OCT for immunofluorescence (IF).\n",
      "   - The remaining tissue will be placed in formalin for light microscopy (LM).\n",
      "\n",
      "2. The remaining two cores will be designated for tissue interrogation and triaged/processed as cores #2 and #3.\n",
      "\n",
      "Please note that this is a general recommendation and may vary depending on specific protocols or guidelines followed by your institution.\u001B[0m\n",
      "\n",
      "\u001B[1m> Finished chain.\u001B[0m\n"
     ]
    },
    {
     "data": {
      "text/plain": "'Based on the information provided, I would triage the tissue as follows:\\n\\n1. Assign the first core (1.5 cm in length) as the diagnostic core.\\n   - A minimum of 0.1-0.2 cm of tissue from both tips of the diagnostic core should be placed in glutaraldehyde for electron microscopy (EM).\\n   - A 0.3 cm of tissue from both tips will be frozen in OCT for immunofluorescence (IF).\\n   - The remaining tissue will be placed in formalin for light microscopy (LM).\\n\\n2. The remaining two cores will be designated for tissue interrogation and triaged/processed as cores #2 and #3.\\n\\nPlease note that this is a general recommendation and may vary depending on specific protocols or guidelines followed by your institution.'"
     },
     "execution_count": 35,
     "metadata": {},
     "output_type": "execute_result"
    }
   ],
   "source": [
    "agent.run(\"You obtain three cores, first core is 1.5 cm in length, second is 1 cm, and third is 0.5 cm. Cortex was not visualized. How would you triage the tissue?\")"
   ],
   "metadata": {
    "collapsed": false,
    "ExecuteTime": {
     "end_time": "2023-11-05T20:07:27.550011Z",
     "start_time": "2023-11-05T20:07:10.031550Z"
    }
   },
   "id": "e53d401ede3dd862"
  },
  {
   "cell_type": "code",
   "execution_count": null,
   "outputs": [],
   "source": [],
   "metadata": {
    "collapsed": false
   },
   "id": "6fee86698966cf7a"
  }
 ],
 "metadata": {
  "kernelspec": {
   "display_name": "Python 3",
   "language": "python",
   "name": "python3"
  },
  "language_info": {
   "codemirror_mode": {
    "name": "ipython",
    "version": 2
   },
   "file_extension": ".py",
   "mimetype": "text/x-python",
   "name": "python",
   "nbconvert_exporter": "python",
   "pygments_lexer": "ipython2",
   "version": "2.7.6"
  }
 },
 "nbformat": 4,
 "nbformat_minor": 5
}
