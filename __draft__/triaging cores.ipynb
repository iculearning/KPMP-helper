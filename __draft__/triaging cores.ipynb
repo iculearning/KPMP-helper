{
 "cells": [
  {
   "cell_type": "markdown",
   "source": [
    "## Triaging three biopsy cores\n",
    "### Three cores with renal cortex visualized: \n",
    "If the first tissue core is adequate for diagnostic workup (cortex visualized and the core is >1.4 cm in length) or when after two or more passes, two or three tissue cores are obtained, with at least one considered adequate for diagnostic workup, are obtained, the tissue core assigned for diagnostic workup is processed as a diagnostic core (see section 2.1.1) \n",
    "\n",
    "The diagnostic core will be divided in three parts with a minimum of 0.1-0.2 cm of cortex fixed in 2.5% glutaraldehyde for\n",
    "electron microscopy studies (container 3), 0.3 cm cortex snap frozen in OCT for immunofluorescence studies (container 2 – Ziploc bag), and the remaining amount of tissue fixed in 10% neutral buffered formaldehyde (formalin) (container 1) (see Figure 3, 4, and 7). \n",
    "\n",
    "If the amount of cortex is less than 0.5cm, the entire core goes toward light microscopy and placed in formalin (see also section 1.5.3). The remaining cores are immediately triaged as tissue interrogation cores 2 and 3. Cores 2 and 3 will be placed in the appropriate media or fixatives and shipped to the CBR for distribution to the TIS (see Figure 7 and section 3 for details). The goal will be to triage the tissue cores within 5 minutes post harvesting.\n",
    "\n",
    "### Three cores with renal cortex not visualized (in all three specimens)\n",
    "If renal cortex is not visualized in any of the 3 cores, and at least one core measures >1.4 cm, then this core will be designated as the diagnostic core, and the remaining two cores will be designated as tissue interrogation cores 2 and 3 (Figure 7). \n",
    "\n",
    "A minimum of 0.1-0.2 cm of tissue from both tips of the diagnostic core will be placed in container 3 (2.5% glutaraldehyde) to be processed for electron microscopy studies, a 0.3 cm of tissue from both tips will be frozen in OCT, to be processed for immunofluorescence studies (container 2 – Ziploc bag), and the remaining tissue will be placed in container 1 (10% neutral buffered formaldehyde formalin), to be processed for Light Microscopy. \n",
    "\n",
    "The remaining two cores will be designated for tissue interrogation and triaged/processed as cores #2 and #3 (see Figure 7 and section 2 for details).\n",
    "\n",
    "### Three cores, all (small) cores <1.4 cm\n",
    "\n",
    "A minimum of 0.5 cm of cortex needs to be placed into container 1 (10% neutral buffered formaldehyde - formalin) for Light Microscopy processing. A minimum of 0.2 cm cortex needs to be frozen in OCT to be processed for Immunofluorescence (container 2 – Ziploc bag). A fragment of tissue measuring 0.1 cm cortex needs to be placed in container 3 (2.5% glutaraldehyde) to be processed for Electron Microscopy. \n",
    "\n",
    "In the event of scarce tissue availability, the following prioritization protocol will be followed: Light Microscopy takes precedence over Immunofluorescence and Electron Microscopy, and Immunofluorescence takes precedence over Electron Microscopy (LM > IF > EM). \n",
    "\n",
    "Cores #2 and #3 will be triaged for tissue interrogation (see Figure 7 and section 3 for details)\n",
    "\n",
    "## Triaging two biopsy cores\n",
    "### Two cores with renal cortex visualized\n",
    "In the situations when a third core cannot be obtained, renal cortex can be visualized grossly or imaged, and the length of the biopsy cores is >1.4 cm, the core will be entirely processed for diagnostic purposes (as Core 1). The second biopsy core is embedded in OCT (container 4), frozen on dry ice and shipped to the central biorepository where it will be distributed to the TISs (see Figure 7 and section 3 for details). The goal will be to triage the tissue within 5 minutes from harvesting and record this time.\n",
    "\n",
    "### Two cores with renal cortex not visualized\n",
    "If renal cortex is not visualized in any of the 2 cores obtained, and at least one core measures >1.4 cm, then this core will be designated as the diagnostic core (Core 1), and the remaining core will be designated as Core 2 for freezing in OCT and shipped to the Central Biorepository (Figure 7). A minimum of 0.1-0.2 cm of tissue from both tips of the diagnostic core will be placed in container 3 (2.5% glutaraldehyde) to be processed for electron microscopy studies, a 0.3 cm of tissue from both tips will be frozen in OCT, to be processed for immunofluorescence studies (container 2 – Ziploc bag), and the remaining tissue will be placed in container 1 (10% neutral buffered formaldehyde - formalin), to be processed for Light Microscopy (see Figure 7 and section 3 for details). The goal will be to triage the tissue within 5 minutes from harvesting and record this time.\n",
    "\n",
    "### Two core and all biopsy cores <1.4 cm\n",
    "A minimum of 0.5 cm of cortex needs to be placed into container 1 (10% neutral buffered formaldehyde - formalin), to be processed for Light Microscopy. A minimum of 0.2 cm cortex needs to be frozen in OCT to be processed for Immunofluorescence (container 2 – Ziploc bag). A fragment of tissue measuring 0.1 cm cortex needs to be placed in container 3 (2.5% glutaraldehyde) to be processed for Electron Microscopy. In the event of scarce tissue availability, the following prioritization protocol will be followed: Light Microscopy takes precedence over Immunofluorescence and Electron Microscopy, and Immunofluorescence takes precedence over Electron Microscopy (LM > IF > EM). The second biopsy core is placed in the appropriate media or fixatives for molecular studies, shipped to the Central Biorepository, and distributed to the tissue interrogation sites (see Figure 7 and section 3 for details).\n",
    "\n",
    "## Triaging one biopsy core \n",
    "### One core that measures >0.5 cm \n",
    "A minimum of 0.5 cm of cortex needs to be fixed in 10% neutral buffered formalin (container 1) to be processed for Light Microscopy. A minimum of 0.2 cm needs to be frozen in OCT and processed for Immunofluorescence analysis (container 2 – Ziploc bag); and 0.1 cm cortex needs to be fixed in 2.5% glutaraldehyde (container 3) to be processed for Electron Microscopy. Light Microscopy takes precedence over Immunofluorescence and Electron Microscopy, and Immunofluorescence takes precedence over Electron Microscopy (LM > IF > EM). The goal will be to triage the tissue within 5 minutes from harvesting and record this time.  \n",
    "### One core that measures <0.5 cm \n",
    "The entire tissue will be fixed in 10% neutral buffered formalin (container 1) to be processed for Light Microscopy.  \n",
    "### One core where renal cortex not visualized \n",
    "The entire tissue will be fixed in 10% neutral buffered formalin (container 1) to be processed for Light Microscopy."
   ],
   "metadata": {
    "collapsed": false
   },
   "id": "e4e06a85ab5bb17"
  },
  {
   "cell_type": "code",
   "execution_count": 76,
   "outputs": [],
   "source": [
    "from collections import namedtuple\n",
    "Core = namedtuple(\"Core\", \"n length cortex\")"
   ],
   "metadata": {
    "collapsed": false,
    "ExecuteTime": {
     "end_time": "2023-11-04T22:35:41.073518Z",
     "start_time": "2023-11-04T22:35:41.062042Z"
    }
   },
   "id": "62a48f56d13b4fd7"
  },
  {
   "cell_type": "code",
   "execution_count": 77,
   "outputs": [],
   "source": [
    "def is_cortex_visualized(cores: list[Core]):\n",
    "    cores_with_cortex = [c for c in cores if c.cortex]\n",
    "    return len(cores_with_cortex) > 0"
   ],
   "metadata": {
    "collapsed": false,
    "ExecuteTime": {
     "end_time": "2023-11-04T22:38:20.951757Z",
     "start_time": "2023-11-04T22:38:20.941274Z"
    }
   },
   "id": "4e1dd2d17f091655"
  },
  {
   "cell_type": "code",
   "execution_count": null,
   "outputs": [],
   "source": [
    "def scenario_1c(core: Core):\n",
    "    \"\"\"Takes a core, returns the diagnostic core along with its processing instructions\"\"\"\n",
    "    if core.cortex and core.length >= 0.5:\n",
    "        message = \"A minimum of 0.5 cm of cortex needs to be fixed in formalin for LM. A minimum of 0.2 cm needs to be frozen in OCT and processed for IF. 0.1 cm cortex needs to be fixed in glutaraldehyde for EM. Prioritize LM > IF > EM.\"\n",
    "    elif core.cortex and core.length < 0.5:\n",
    "        message = \"The entire tissue will be fixed in formalin to be processed for Light Microscopy.\"\n",
    "    else:\n",
    "        message = \"The entire tissue will be fixed in formalin to be processed for Light Microscopy.\"\n",
    "    \n",
    "    return core, message"
   ],
   "metadata": {
    "collapsed": false
   },
   "id": "66a22fcf1b37bb92"
  },
  {
   "cell_type": "code",
   "execution_count": 62,
   "outputs": [],
   "source": [
    "def additional_core_instructions(cores: list[Core]):\n",
    "    if len(cores) == 3:\n",
    "        other_message = \"The remaining two cores will be designated for tissue interrogation and triaged/processed as cores #2 and #3.\"\n",
    "    elif len(cores) == 2:\n",
    "        other_message = \"The second biopsy core should be embedded in OCT, frozen on dry ice and shipped to the central biorepository where it will be distributed to the TISs.\"\n",
    "    else:\n",
    "        other_message = \"\"\n",
    "    return other_message"
   ],
   "metadata": {
    "collapsed": false,
    "ExecuteTime": {
     "end_time": "2023-11-04T22:15:24.393613Z",
     "start_time": "2023-11-04T22:15:24.360517Z"
    }
   },
   "id": "b6263cd3347f0cdb"
  },
  {
   "cell_type": "code",
   "execution_count": 74,
   "outputs": [],
   "source": [
    "def scenario_23c_visualized_cortex(cores: list[Core]):\n",
    "    \"\"\"Takes a list of cores, returns the diagnostic core along with its processing instructions\"\"\"\n",
    "    # to find the diagnostic core, start by eliminating the cores without cortext\n",
    "    cores = [c for c in cores if c.cortex]\n",
    "    # then assign the longest core as the diagnostic core\n",
    "    cores = sorted(cores, key = lambda x: x.length, reverse=True)\n",
    "    diagnostic_core = cores[0]\n",
    "    if diagnostic_core.length >= 1.4:\n",
    "        message = f\"Assign the {diagnostic_core.n} core as the diagnostic core. If the amount of cortext is less than 0.5 cm then please the entire core in formalin for light microscopy. Otherwise, divide diagnostic core in three parts with a minimum of 0.1-0.2 cm of cortex fixed in 2.5% glutaraldehyde for EM, 0.3 cm cortex frozen in OCT for IF, and the remaining amount of tissue fixed in 10% formalin for LM. \\n\"\n",
    "        return diagnostic_core, message + additional_core_instructions(cores)\n",
    "    else:\n",
    "        return scenario_23c_small(cores)"
   ],
   "metadata": {
    "collapsed": false,
    "ExecuteTime": {
     "end_time": "2023-11-04T22:17:14.503959Z",
     "start_time": "2023-11-04T22:17:14.495476Z"
    }
   },
   "id": "1cc96f2822d9f72"
  },
  {
   "cell_type": "code",
   "execution_count": 72,
   "outputs": [],
   "source": [
    "def scenario_23c_no_cortex(cores: list[Core]):\n",
    "    \"\"\"Takes a list of cores, returns the diagnostic core along with its processing instructions\"\"\"\n",
    "    # if any of the cores has cortext then throw an error\n",
    "    if len([c for c in cores if c.cortex]) > 0: raise Exception(\"this function cannot be provided cores with cortext\")\n",
    "    # assign the longest core as the diagnostic core\n",
    "    cores = sorted(cores, key = lambda x: x.length, reverse=True)\n",
    "    diagnostic_core = cores[0]\n",
    "    if diagnostic_core.length >= 1.4:\n",
    "        message = f\"Assign the {diagnostic_core.n} core as the diagnostic core. A minimum of 0.1-0.2 cm of tissue from both tips of the diagnostic core should be placed in  glutaraldehyde for EM, a 0.3 cm of tissue from both tips will be frozen in OCT for IF, and the remaining tissue will be placed in formalin for LM. \\n\"\n",
    "        return diagnostic_core, message + additional_core_instructions(cores)\n",
    "    else:\n",
    "        return scenario_23c_small(cores)"
   ],
   "metadata": {
    "collapsed": false,
    "ExecuteTime": {
     "end_time": "2023-11-04T22:17:09.499802Z",
     "start_time": "2023-11-04T22:17:09.447876Z"
    }
   },
   "id": "52a059fda39a6246"
  },
  {
   "cell_type": "code",
   "execution_count": 75,
   "outputs": [],
   "source": [
    "def scenario_23c_small(cores: list[Core]):\n",
    "    \"\"\"Takes a list of cores, returns the diagnostic core along with its processing instructions\"\"\"\n",
    "    message = \"\"\"All biopsy cores are less than 1.4 cm. A minimum of 0.5 cm of cortex needs to be placed into formalin for LM. A minimum of 0.2 cm cortex needs to be frozen in OCT to be processed for IF. A minimum of 0.1 cm cortex needs to be placed glutaraldehyde for EM. In the event of scarce tissue availability, prioritize LM > IF > EM. \\n\"\"\"\n",
    "    return message + additional_core_instructions(cores)"
   ],
   "metadata": {
    "collapsed": false,
    "ExecuteTime": {
     "end_time": "2023-11-04T22:18:17.817556Z",
     "start_time": "2023-11-04T22:18:17.814242Z"
    }
   },
   "id": "28ec0c47048d40c9"
  },
  {
   "cell_type": "code",
   "execution_count": 78,
   "outputs": [],
   "source": [
    "def triage_biopsy(n_passes: int=0, n_cores: int=0, core1_l: float=0, core1_cortex: bool=False, core2_l: float=0, core2_cortex: bool=False,core3_l: float=0, core3_cortex: bool=False):\n",
    "    if n_cores == 1:\n",
    "        return scenario_1c(Core(\"first\", core1_l, core1_cortex))\n",
    "    elif n_cores == 2:\n",
    "        core1 = Core(\"first\", core1_l, core1_cortex)\n",
    "        core2 = Core(\"second\", core2_l, core2_cortex)\n",
    "        cores = [core1, core2]\n",
    "    elif n_cores == 3:\n",
    "        core1 = Core(\"first\", core1_l, core1_cortex)\n",
    "        core2 = Core(\"second\", core2_l, core2_cortex)\n",
    "        core3 = Core(\"third\", core3_l, core3_cortex)\n",
    "        cores = [core1, core2, core3]\n",
    "    else:\n",
    "        if n_passes >=5:\n",
    "            return \"You have exceeded the maximum number of passes, and you should stop at this point.\"\n",
    "        else:\n",
    "            return \"You can perform up to 5 passes to obtain more cores.\"\n",
    "        \n",
    "    if is_cortex_visualized(cores):\n",
    "        return scenario_23c_visualized_cortex(cores)\n",
    "    else:\n",
    "        return scenario_23c_no_cortex(cores)\n",
    "    "
   ],
   "metadata": {
    "collapsed": false,
    "ExecuteTime": {
     "end_time": "2023-11-04T22:45:07.893407Z",
     "start_time": "2023-11-04T22:45:07.874894Z"
    }
   },
   "id": "3d5ddd21c4cdaf9f"
  },
  {
   "cell_type": "code",
   "execution_count": null,
   "outputs": [],
   "source": [],
   "metadata": {
    "collapsed": false
   },
   "id": "fc6fcdda73535a3f"
  }
 ],
 "metadata": {
  "kernelspec": {
   "display_name": "Python 3",
   "language": "python",
   "name": "python3"
  },
  "language_info": {
   "codemirror_mode": {
    "name": "ipython",
    "version": 2
   },
   "file_extension": ".py",
   "mimetype": "text/x-python",
   "name": "python",
   "nbconvert_exporter": "python",
   "pygments_lexer": "ipython2",
   "version": "2.7.6"
  }
 },
 "nbformat": 4,
 "nbformat_minor": 5
}
